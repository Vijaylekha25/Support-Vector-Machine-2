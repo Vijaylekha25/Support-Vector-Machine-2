{
 "cells": [
  {
   "cell_type": "markdown",
   "id": "783c3250-c408-425a-8714-720d694f9c3f",
   "metadata": {},
   "source": [
    "Q1. What is the relationship between polynomial functions and kernel functions in machine learning\n",
    "algorithms?"
   ]
  },
  {
   "cell_type": "markdown",
   "id": "bb8e0a52-dd3a-4567-ad29-faabf4de15d3",
   "metadata": {},
   "source": [
    " Polynomial functions and kernel functions are related in the sense that polynomial functions can be used as kernel functions in machine learning algorithms, particularly in support vector machines (SVMs). Kernel functions are used to implicitly map input data into a higher-dimensional feature space where it might be linearly separable. Polynomial kernel functions compute the inner product of vectors in this higher-dimensional space without actually computing the transformation explicitly. This allows SVMs to handle non-linear decision boundaries by projecting the data into a higher-dimensional space where a hyperplane can be used for separation."
   ]
  },
  {
   "cell_type": "markdown",
   "id": "a6c080ba-2c1b-4b8c-942f-873412d4ad57",
   "metadata": {},
   "source": [
    "Q2. How can we implement an SVM with a polynomial kernel in Python using Scikit-learn?"
   ]
  },
  {
   "cell_type": "markdown",
   "id": "dca869be-7792-470a-bbbb-05eb7eb2081c",
   "metadata": {},
   "source": [
    "To implement an SVM with a polynomial kernel in Python using Scikit-learn, you can use the SVC class with the kernel parameter set to 'poly'. Here's an example:"
   ]
  },
  {
   "cell_type": "code",
   "execution_count": 1,
   "id": "a6579035-c016-4587-8f1b-b406cdd86f70",
   "metadata": {},
   "outputs": [
    {
     "ename": "SyntaxError",
     "evalue": "incomplete input (2804496450.py, line 25)",
     "output_type": "error",
     "traceback": [
      "\u001b[1;36m  Cell \u001b[1;32mIn[1], line 25\u001b[1;36m\u001b[0m\n\u001b[1;33m    print(\"Accuracy:\", accuracy\u001b[0m\n\u001b[1;37m                               ^\u001b[0m\n\u001b[1;31mSyntaxError\u001b[0m\u001b[1;31m:\u001b[0m incomplete input\n"
     ]
    }
   ],
   "source": [
    "\n",
    "from sklearn.datasets import load_iris\n",
    "from sklearn.model_selection import train_test_split\n",
    "from sklearn.svm import SVC\n",
    "from sklearn.metrics import accuracy_score\n",
    "\n",
    "# Load the Iris dataset\n",
    "iris = load_iris()\n",
    "X = iris.data\n",
    "y = iris.target\n",
    "\n",
    "# Split the dataset into training and testing sets\n",
    "X_train, X_test, y_train, y_test = train_test_split(X, y, test_size=0.2, random_state=42)\n",
    "\n",
    "# Create an instance of the SVC classifier with a polynomial kernel\n",
    "svm_poly = SVC(kernel='poly')\n",
    "\n",
    "# Train the classifier on the training data\n",
    "svm_poly.fit(X_train, y_train)\n",
    "\n",
    "# Predict the labels of the testing data\n",
    "y_pred = svm_poly.predict(X_test)\n",
    "\n",
    "# Evaluate the performance of the classifier\n",
    "accuracy = accuracy_score(y_test, y_pred)\n",
    "print(\"Accuracy:\", accuracy\n"
   ]
  },
  {
   "cell_type": "markdown",
   "id": "f2ab0f4a-47cf-410d-89a8-749de22c56b0",
   "metadata": {},
   "source": [
    "Q3. How does increasing the value of epsilon affect the number of support vectors in SVR?"
   ]
  },
  {
   "cell_type": "markdown",
   "id": "0576e795-ff9e-42ee-8e83-adb40cded4e3",
   "metadata": {},
   "source": [
    "# In Support Vector Regression (SVR), increasing the value of epsilon affects the number of support vectors in the following way:\n",
    "\n",
    "Increasing epsilon allows more training points to be within the margin (i.e., within epsilon distance from the predicted value), thereby increasing the number of support vectors.\n",
    "Decreasing epsilon, on the other hand, results in fewer training points within the margin, leading to fewer support vectors."
   ]
  },
  {
   "cell_type": "markdown",
   "id": "155cd41a-ce34-4acd-8b68-5b653d1b875a",
   "metadata": {},
   "source": [
    "Q4. How does the choice of kernel function, C parameter, epsilon parameter, and gamma parameter\n",
    "affect the performance of Support Vector Regression (SVR)? Can you explain how each parameter works\n",
    "and provide examples of when you might want to increase or decrease its value?"
   ]
  },
  {
   "cell_type": "markdown",
   "id": "3a42fbba-9434-43e9-8a96-a9f5fce2a15c",
   "metadata": {},
   "source": [
    "# The choice of kernel function, C parameter, epsilon parameter, and gamma parameter affects the performance of Support Vector Regression (SVR) as follows:\n",
    "\n",
    "Kernel Function: Different kernel functions capture different types of relationships in the data. The choice depends on the problem at hand. For example, a linear kernel might work well for linear relationships, while a radial basis function (RBF) kernel might capture more complex non-linear relationships.\n",
    "\n",
    "\n",
    "C Parameter: The C parameter controls the trade-off between the smoothness of the decision surface and the classification of training points. Higher values of C lead to a smaller-margin hyperplane, potentially resulting in overfitting. Lower values of C allow more errors in the training data, potentially resulting in underfitting.\n",
    "\n",
    "\n",
    "Epsilon Parameter: Epsilon controls the width of the epsilon-tube around the predicted value within which no penalty is associated with errors. Larger values of epsilon allow for more errors within the tube, potentially leading to a wider margin and more support vectors.\n",
    "\n",
    "\n",
    "Gamma Parameter: Gamma defines how far the influence of a single training example reaches. Low values of gamma lead to a smoother decision boundary, whereas high values lead to more complex decision boundaries.\n",
    "\n",
    "\n",
    "Tuning these parameters requires experimentation and understanding the data and problem domain."
   ]
  },
  {
   "cell_type": "markdown",
   "id": "2aa1e9b5-f38d-4430-93fc-18ee4bf1b3c7",
   "metadata": {},
   "source": [
    "Q5. Assignment:\n",
    "L Import the necessary libraries and load the dataseg\n",
    "L Split the dataset into training and testing setZ\n",
    "L Preprocess the data using any technique of your choice (e.g. scaling, normaliMationK\n",
    "L Create an instance of the SVC classifier and train it on the training datW\n",
    "L hse the trained classifier to predict the labels of the testing datW\n",
    "L Evaluate the performance of the classifier using any metric of your choice (e.g. accuracy,\n",
    "precision, recall, F1-scoreK\n",
    "L Tune the hyperparameters of the SVC classifier using GridSearchCV or RandomiMedSearchCV to\n",
    "improve its performanc_\n",
    "L Train the tuned classifier on the entire dataseg\n",
    "L Save the trained classifier to a file for future use."
   ]
  },
  {
   "cell_type": "code",
   "execution_count": null,
   "id": "b28f6bfb-353d-4dda-ac52-ad6cee53356b",
   "metadata": {},
   "outputs": [],
   "source": [
    "from sklearn.datasets import load_iris\n",
    "from sklearn.model_selection import train_test_split, GridSearchCV\n",
    "from sklearn.svm import SVC\n",
    "from sklearn.metrics import accuracy_score\n",
    "import joblib\n",
    "\n",
    "# Load the Iris dataset\n",
    "iris = load_iris()\n",
    "X = iris.data\n",
    "y = iris.target\n",
    "\n",
    "# Split the dataset into training and testing sets\n",
    "X_train, X_test, y_train, y_test = train_test_split(X, y, test_size=0.2, random_state=42)\n",
    "\n",
    "# Create an instance of the SVC classifier\n",
    "svm = SVC()\n",
    "\n",
    "# Train the classifier on the training data\n",
    "svm.fit(X_train, y_train)\n",
    "\n",
    "# Predict the labels of the testing data\n",
    "y_pred = svm.predict(X_test)\n",
    "\n",
    "# Evaluate the performance of the classifier\n",
    "accuracy = accuracy_score(y_test, y_pred)\n",
    "print(\"Accuracy:\", accuracy)\n",
    "\n",
    "# Tune hyperparameters using GridSearchCV\n",
    "param_grid = {'C': [0.1, 1, 10], 'gamma': [0.1, 1, 10], 'kernel': ['rbf', 'poly', 'sigmoid']}\n",
    "grid_search = GridSearchCV(SVC(), param_grid, cv=5)\n",
    "grid_search.fit(X_train, y_train)\n",
    "\n",
    "# Best parameters\n",
    "print(\"Best Parameters:\", grid_search.best_params_)\n",
    "\n",
    "# Train the tuned classifier on the entire dataset\n",
    "best_svm = grid_search.best_estimator_\n",
    "best_svm.fit(X, y)\n",
    "\n",
    "# Save the trained classifier to a file for future use\n",
    "joblib.dump(best_svm, 'svm_classifier.pkl')"
   ]
  },
  {
   "cell_type": "code",
   "execution_count": null,
   "id": "31a8e10a-0bde-471c-b6ec-f85aac365d79",
   "metadata": {},
   "outputs": [],
   "source": []
  },
  {
   "cell_type": "code",
   "execution_count": null,
   "id": "e6849141-3be0-4822-acc1-b04dec3aee93",
   "metadata": {},
   "outputs": [],
   "source": []
  },
  {
   "cell_type": "code",
   "execution_count": null,
   "id": "e2ffeae8-f021-415b-ac5d-45d25f71620b",
   "metadata": {},
   "outputs": [],
   "source": []
  },
  {
   "cell_type": "code",
   "execution_count": null,
   "id": "4a789874-0328-47d4-85a3-1c67a6f890b4",
   "metadata": {},
   "outputs": [],
   "source": []
  },
  {
   "cell_type": "code",
   "execution_count": null,
   "id": "273f35cd-9018-41f0-bdef-d8fc62d38275",
   "metadata": {},
   "outputs": [],
   "source": []
  },
  {
   "cell_type": "code",
   "execution_count": null,
   "id": "522530c0-bd07-4f0c-8f52-0d2c1fc16514",
   "metadata": {},
   "outputs": [],
   "source": []
  },
  {
   "cell_type": "code",
   "execution_count": null,
   "id": "557ac6bc-4a04-4f20-8a6d-ca1ed5774d1b",
   "metadata": {},
   "outputs": [],
   "source": []
  },
  {
   "cell_type": "code",
   "execution_count": null,
   "id": "9cb0780e-f6f4-41c2-9a32-b459d1530da4",
   "metadata": {},
   "outputs": [],
   "source": []
  },
  {
   "cell_type": "code",
   "execution_count": null,
   "id": "c589ccb9-9020-4307-9ab3-601e1df85f4f",
   "metadata": {},
   "outputs": [],
   "source": []
  }
 ],
 "metadata": {
  "kernelspec": {
   "display_name": "Python 3 (ipykernel)",
   "language": "python",
   "name": "python3"
  },
  "language_info": {
   "codemirror_mode": {
    "name": "ipython",
    "version": 3
   },
   "file_extension": ".py",
   "mimetype": "text/x-python",
   "name": "python",
   "nbconvert_exporter": "python",
   "pygments_lexer": "ipython3",
   "version": "3.12.2"
  }
 },
 "nbformat": 4,
 "nbformat_minor": 5
}
